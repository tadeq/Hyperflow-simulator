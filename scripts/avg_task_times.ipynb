{
 "cells": [
  {
   "cell_type": "code",
   "execution_count": 1,
   "metadata": {},
   "outputs": [],
   "source": [
    "import json\n",
    "import statistics"
   ]
  },
  {
   "cell_type": "code",
   "execution_count": 2,
   "metadata": {},
   "outputs": [],
   "source": [
    "def calculate_avg_task_times(filename, task_names):\n",
    "    time_by_task_name = {}\n",
    "    with open(filename) as file:\n",
    "        for line in file:\n",
    "            json_data = json.loads(line)\n",
    "            if json_data['name'] in task_names:\n",
    "                if json_data['name'] in time_by_task_name:\n",
    "                    time_by_task_name[json_data['name']].append(json_data['execTimeMs'])\n",
    "                else:\n",
    "                    time_by_task_name[json_data['name']] = [json_data['execTimeMs']]\n",
    "    avg_times = {}\n",
    "    for task_name, times in time_by_task_name.items():\n",
    "        avg_times[task_name] = statistics.mean(times)\n",
    "    print(avg_times)"
   ]
  },
  {
   "cell_type": "code",
   "execution_count": 21,
   "metadata": {},
   "outputs": [
    {
     "name": "stdout",
     "output_type": "stream",
     "text": [
      "{'mProjectPP': 1893.8, 'mDiffFit': 110, 'mConcatFit': 475, 'mBgModel': 837, 'mBackground': 907, 'mAdd': 778, 'mShrink': 220, 'mJPEG': 806}\n"
     ]
    }
   ],
   "source": [
    "calculate_avg_task_times('job_descriptions_0.25_sim.jsonl', ['mProjectPP', 'mDiffFit', 'mConcatFit', 'mBgModel', 'mBackground', 'mImgTbl', 'mShrink', 'mAdd', 'mJPEG'])"
   ]
  },
  {
   "cell_type": "code",
   "execution_count": 23,
   "metadata": {},
   "outputs": [
    {
     "name": "stdout",
     "output_type": "stream",
     "text": [
      "{'mProjectPP': 754.4, 'mDiffFit': 83.70588235294117, 'mConcatFit': 191, 'mBgModel': 951, 'mBackground': 85.1, 'mAdd': 271, 'mShrink': 115, 'mJPEG': 604}\n"
     ]
    }
   ],
   "source": [
    "calculate_avg_task_times('job_descriptions2.jsonl', ['mProjectPP', 'mDiffFit', 'mConcatFit', 'mBgModel', 'mBackground', 'mImgTbl', 'mShrink', 'mAdd', 'mJPEG'])"
   ]
  },
  {
   "cell_type": "code",
   "execution_count": 24,
   "metadata": {},
   "outputs": [
    {
     "name": "stdout",
     "output_type": "stream",
     "text": [
      "{'mProjectPP': 880.6, 'mDiffFit': 79.76470588235294, 'mConcatFit': 235, 'mBgModel': 826, 'mBackground': 84.5, 'mAdd': 212, 'mShrink': 85, 'mJPEG': 541}\n"
     ]
    }
   ],
   "source": [
    "calculate_avg_task_times('job_descriptions.jsonl', ['mProjectPP', 'mDiffFit', 'mConcatFit', 'mBgModel', 'mBackground', 'mImgTbl', 'mShrink', 'mAdd', 'mJPEG'])"
   ]
  },
  {
   "cell_type": "code",
   "execution_count": 5,
   "metadata": {},
   "outputs": [
    {
     "name": "stdout",
     "output_type": "stream",
     "text": [
      "{'alignment_to_reference': 2870, 'sort_sam': 341, 'dedup': 4308, 'add_replace': 423, 'realign_target_creator': 60545, 'indel_realign': 2589, 'haplotype_caller': 47539.85, 'genotype_gvcfs': 25027.6, 'merge_gcvf': 1737466, 'combine_variants': 3583, 'select_variants_indel': 24530, 'select_variants_snp': 39027, 'filtering_indel': 2725, 'filtering_snp': 2795}\n"
     ]
    }
   ],
   "source": [
    "calculate_avg_task_times('job_descriptions_soykb.jsonl', ['alignment_to_reference', 'sort_sam', 'dedup', 'add_replace', 'realign_target_creator', 'indel_realign', 'haplotype_caller', 'genotype_gvcfs', 'merge_gcvf', 'combine_variants', 'select_variants_snp', 'select_variants_indel', 'filtering_snp', 'filtering_indel'])"
   ]
  },
  {
   "cell_type": "code",
   "execution_count": 6,
   "metadata": {},
   "outputs": [
    {
     "name": "stdout",
     "output_type": "stream",
     "text": [
      "{'alignment_to_reference': 26644, 'sort_sam': 826, 'dedup': 1115, 'add_replace': 891, 'realign_target_creator': 25592, 'indel_realign': 26008, 'haplotype_caller': 11050.4, 'genotype_gvcfs': 14562.05, 'merge_gcvf': 25553, 'combine_variants': 26036, 'select_variants_snp': 25959, 'select_variants_indel': 25959, 'filtering_snp': 25993, 'filtering_indel': 25993}\n"
     ]
    }
   ],
   "source": [
    "calculate_avg_task_times('job_descriptions_soykb_fixed.jsonl', ['alignment_to_reference', 'sort_sam', 'dedup', 'add_replace', 'realign_target_creator', 'indel_realign', 'haplotype_caller', 'genotype_gvcfs', 'merge_gcvf', 'combine_variants', 'select_variants_snp', 'select_variants_indel', 'filtering_snp', 'filtering_indel'])"
   ]
  },
  {
   "cell_type": "code",
   "execution_count": null,
   "metadata": {},
   "outputs": [],
   "source": []
  }
 ],
 "metadata": {
  "kernelspec": {
   "display_name": "Python 3",
   "language": "python",
   "name": "python3"
  },
  "language_info": {
   "codemirror_mode": {
    "name": "ipython",
    "version": 3
   },
   "file_extension": ".py",
   "mimetype": "text/x-python",
   "name": "python",
   "nbconvert_exporter": "python",
   "pygments_lexer": "ipython3",
   "version": "3.7.9"
  }
 },
 "nbformat": 4,
 "nbformat_minor": 4
}
