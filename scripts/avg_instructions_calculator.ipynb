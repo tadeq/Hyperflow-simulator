{
 "cells": [
  {
   "cell_type": "code",
   "execution_count": 30,
   "metadata": {},
   "outputs": [],
   "source": [
    "import statistics\n",
    "def calculate_avg_mil_instructions(filename):\n",
    "    instructions_by_job = {}\n",
    "    job = ''\n",
    "    with open(filename) as file:\n",
    "        for line in file:\n",
    "            if 'Performance counter stats for' in line:\n",
    "                job = line.split('./')[1].split(' ')[0]\n",
    "            if 'instructions' in line:\n",
    "                split_line = line.split(' ')\n",
    "                for ind, part in enumerate(split_line):\n",
    "                    if part == 'instructions':\n",
    "                        length = ind\n",
    "                instructions = int(''.join(split_line[:length]))\n",
    "                if job in instructions_by_job:\n",
    "                    instructions_by_job[job].append(instructions)\n",
    "                else:\n",
    "                    instructions_by_job[job] = [instructions]\n",
    "    for job in instructions_by_job:\n",
    "        instructions_by_job[job] = round(statistics.mean(instructions_by_job[job])/1_000_000, 3)\n",
    "    return instructions_by_job\n",
    "\n",
    "def count_jobs(filename):\n",
    "    jobs_counts = {}\n",
    "    job = ''\n",
    "    with open(filename) as file:\n",
    "        for line in file:\n",
    "            if 'Performance counter stats for' in line:\n",
    "                job = line.split('./')[1].split(' ')[0]\n",
    "                if job in jobs_counts:\n",
    "                    jobs_counts [job] += 1\n",
    "                else:\n",
    "                    jobs_counts[job] = 1\n",
    "    return jobs_counts"
   ]
  },
  {
   "cell_type": "code",
   "execution_count": 31,
   "metadata": {},
   "outputs": [
    {
     "data": {
      "text/plain": [
       "{'mProjectPP': 4522.332,\n",
       " 'mDiffFit': 2.383,\n",
       " 'mConcatFit': 910.541,\n",
       " 'mBgModel': 1818.868,\n",
       " 'mBackground': 1992.512,\n",
       " 'mImgtbl': 1094.965,\n",
       " 'mAdd': 1669.058,\n",
       " 'mShrink': 388.745,\n",
       " 'mJPEG': 1740.068}"
      ]
     },
     "execution_count": 31,
     "metadata": {},
     "output_type": "execute_result"
    }
   ],
   "source": [
    "calculate_avg_mil_instructions('perf_results_0.25.txt')"
   ]
  },
  {
   "cell_type": "code",
   "execution_count": 32,
   "metadata": {},
   "outputs": [
    {
     "data": {
      "text/plain": [
       "{'mProjectPP': 4443.909,\n",
       " 'mDiffFit': 2.394,\n",
       " 'mConcatFit': 908.867,\n",
       " 'mBgModel': 1820.045,\n",
       " 'mBackground': 1994.52,\n",
       " 'mImgtbl': 2754.899,\n",
       " 'mAdd': 9737.664,\n",
       " 'mShrink': 2656.911,\n",
       " 'mJPEG': 1760.015}"
      ]
     },
     "execution_count": 32,
     "metadata": {},
     "output_type": "execute_result"
    }
   ],
   "source": [
    "calculate_avg_instructions('perf_results_1.0.txt')"
   ]
  },
  {
   "cell_type": "code",
   "execution_count": 33,
   "metadata": {},
   "outputs": [
    {
     "data": {
      "text/plain": [
       "{'mProjectPP': 4499.522,\n",
       " 'mDiffFit': 2.369,\n",
       " 'mConcatFit': 910.113,\n",
       " 'mBgModel': 1830.194,\n",
       " 'mBackground': 2000.724,\n",
       " 'mImgtbl': 6576.13,\n",
       " 'mAdd': 34943.406,\n",
       " 'mShrink': 9358.008,\n",
       " 'mJPEG': 1834.911}"
      ]
     },
     "execution_count": 33,
     "metadata": {},
     "output_type": "execute_result"
    }
   ],
   "source": [
    "calculate_avg_instructions('perf_results_2.0.txt')"
   ]
  },
  {
   "cell_type": "code",
   "execution_count": 34,
   "metadata": {},
   "outputs": [
    {
     "data": {
      "text/plain": [
       "{'mProjectPP': 10,\n",
       " 'mDiffFit': 17,\n",
       " 'mConcatFit': 1,\n",
       " 'mBgModel': 1,\n",
       " 'mBackground': 10,\n",
       " 'mImgtbl': 1,\n",
       " 'mAdd': 1,\n",
       " 'mShrink': 1,\n",
       " 'mJPEG': 1}"
      ]
     },
     "execution_count": 34,
     "metadata": {},
     "output_type": "execute_result"
    }
   ],
   "source": [
    "count_jobs('perf_results_0.25.txt')"
   ]
  },
  {
   "cell_type": "code",
   "execution_count": 35,
   "metadata": {},
   "outputs": [
    {
     "data": {
      "text/plain": [
       "{'mProjectPP': 100,\n",
       " 'mDiffFit': 263,\n",
       " 'mConcatFit': 1,\n",
       " 'mBgModel': 1,\n",
       " 'mBackground': 100,\n",
       " 'mImgtbl': 1,\n",
       " 'mAdd': 1,\n",
       " 'mShrink': 1,\n",
       " 'mJPEG': 1}"
      ]
     },
     "execution_count": 35,
     "metadata": {},
     "output_type": "execute_result"
    }
   ],
   "source": [
    "count_jobs('perf_results_1.0.txt')"
   ]
  },
  {
   "cell_type": "code",
   "execution_count": 36,
   "metadata": {},
   "outputs": [
    {
     "data": {
      "text/plain": [
       "{'mProjectPP': 307,\n",
       " 'mDiffFit': 862,\n",
       " 'mConcatFit': 1,\n",
       " 'mBgModel': 1,\n",
       " 'mBackground': 307,\n",
       " 'mImgtbl': 1,\n",
       " 'mAdd': 1,\n",
       " 'mShrink': 1,\n",
       " 'mJPEG': 1}"
      ]
     },
     "execution_count": 36,
     "metadata": {},
     "output_type": "execute_result"
    }
   ],
   "source": [
    "count_jobs('perf_results_2.0.txt')"
   ]
  },
  {
   "cell_type": "code",
   "execution_count": null,
   "metadata": {},
   "outputs": [],
   "source": []
  }
 ],
 "metadata": {
  "kernelspec": {
   "display_name": "Python 3",
   "language": "python",
   "name": "python3"
  },
  "language_info": {
   "codemirror_mode": {
    "name": "ipython",
    "version": 3
   },
   "file_extension": ".py",
   "mimetype": "text/x-python",
   "name": "python",
   "nbconvert_exporter": "python",
   "pygments_lexer": "ipython3",
   "version": "3.7.9"
  }
 },
 "nbformat": 4,
 "nbformat_minor": 4
}
