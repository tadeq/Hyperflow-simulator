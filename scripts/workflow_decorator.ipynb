{
 "cells": [
  {
   "cell_type": "code",
   "execution_count": 9,
   "metadata": {},
   "outputs": [],
   "source": [
    "import json\n",
    "\n",
    "def add_instructions_and_file_sizes(file_suffix):\n",
    "    instructions = []\n",
    "    with open('perf_results_{}.txt'.format(file_suffix)) as file:\n",
    "        for line in file:\n",
    "            if 'instructions' in line:\n",
    "                split_line = line.split(' ')\n",
    "                for ind, part in enumerate(split_line):\n",
    "                    if part == 'instructions':\n",
    "                        length = ind\n",
    "                instructions.append(int(''.join(split_line[:length])))\n",
    "    file_sizes = {}\n",
    "    with open('file_sizes_{}.txt'.format(file_suffix)) as file:\n",
    "        for line in file:\n",
    "            split_line = line.split()\n",
    "            file_sizes[split_line[1]] = int(split_line[0])/1000\n",
    "    with open('workflow_{}.json'.format(file_suffix)) as file:\n",
    "        json_data = json.load(file)\n",
    "        for node in json_data['signals']:\n",
    "            name = node['name']\n",
    "            if name in file_sizes:\n",
    "                node['size'] = file_sizes[node['name']]\n",
    "        print(len(json_data['processes']))\n",
    "        print(len(instructions))\n",
    "        for node, num_instr in zip(json_data['processes'], instructions):\n",
    "            node['config']['executor']['instructions'] = num_instr\n",
    "    with open('workflow_{}_decorated.json'.format(file_suffix), 'w+') as outfile:\n",
    "        json.dump(json_data, outfile, indent=2)"
   ]
  },
  {
   "cell_type": "code",
   "execution_count": 42,
   "metadata": {},
   "outputs": [],
   "source": [
    "add_instructions_and_file_sizes('0.25')\n",
    "add_instructions_and_file_sizes('1.0')\n",
    "add_instructions_and_file_sizes('2.0')"
   ]
  },
  {
   "cell_type": "code",
   "execution_count": 13,
   "metadata": {},
   "outputs": [],
   "source": [
    "def add_requests(mem_request, cpu_request, filename):\n",
    "    with open(filename) as file:\n",
    "        json_data = json.load(file)\n",
    "        for node in json_data['processes']:\n",
    "            if 'config' in node:\n",
    "                executor = node['config']['executor']\n",
    "                executor['memRequest'] = mem_request\n",
    "                executor['cpuRequest'] = cpu_request\n",
    "    with open(filename[:-5]+'_decorated.json', 'w+') as outfile:\n",
    "        json.dump(json_data, outfile, indent=2)"
   ]
  },
  {
   "cell_type": "code",
   "execution_count": 19,
   "metadata": {},
   "outputs": [],
   "source": [
    "add_requests(1000, 2500, 'workflow_2.0_decorated.json')"
   ]
  },
  {
   "cell_type": "code",
   "execution_count": 11,
   "metadata": {},
   "outputs": [
    {
     "name": "stdout",
     "output_type": "stream",
     "text": [
      "52\n",
      "50\n"
     ]
    }
   ],
   "source": [
    "add_instructions_and_file_sizes('soykb')"
   ]
  },
  {
   "cell_type": "code",
   "execution_count": 14,
   "metadata": {},
   "outputs": [],
   "source": [
    "add_requests(1000, 2500, 'workflow_soykb_decorated.json')"
   ]
  },
  {
   "cell_type": "code",
   "execution_count": 16,
   "metadata": {},
   "outputs": [],
   "source": [
    "def add_file_parts(filename, parts_by_task_name):\n",
    "    with open(filename) as file:\n",
    "        json_data = json.load(file)\n",
    "        for node in json_data['processes']:\n",
    "            if 'config' in node and node['name'] in parts_by_task_name:\n",
    "                executor = node['config']['executor']\n",
    "                executor['filePart'] = parts_by_task_name[node['name']]\n",
    "    with open(filename[:-5]+'_decorated.json', 'w+') as outfile:\n",
    "        json.dump(json_data, outfile, indent=2)"
   ]
  },
  {
   "cell_type": "code",
   "execution_count": 17,
   "metadata": {},
   "outputs": [],
   "source": [
    "add_file_parts('workflow_soykb_decorated_decorated.json', {'genotype_gvcfs':0.05, 'haplotype_caller':0.05})"
   ]
  },
  {
   "cell_type": "code",
   "execution_count": null,
   "metadata": {},
   "outputs": [],
   "source": []
  }
 ],
 "metadata": {
  "kernelspec": {
   "display_name": "Python 3",
   "language": "python",
   "name": "python3"
  },
  "language_info": {
   "codemirror_mode": {
    "name": "ipython",
    "version": 3
   },
   "file_extension": ".py",
   "mimetype": "text/x-python",
   "name": "python",
   "nbconvert_exporter": "python",
   "pygments_lexer": "ipython3",
   "version": "3.7.9"
  }
 },
 "nbformat": 4,
 "nbformat_minor": 4
}
